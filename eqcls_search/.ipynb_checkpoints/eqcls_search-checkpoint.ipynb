{
 "cells": [
  {
   "cell_type": "code",
   "execution_count": 5,
   "id": "41b1b141",
   "metadata": {},
   "outputs": [],
   "source": [
    "import networkx as nx\n",
    "from dag2mag import dag2mag\n",
    "from graphical_models import DAG\n",
    "from util import toset,tolist,powerset,neighbors,inplace_union,print_eqclses\n",
    "\n",
    "import sys\n",
    "sys.path.append('../utils/')\n",
    "from jsonio import load,save"
   ]
  },
  {
   "cell_type": "code",
   "execution_count": 3,
   "id": "c5d02602",
   "metadata": {},
   "outputs": [],
   "source": [
    "def _recover(dag,lat,sel):\n",
    "    '''\n",
    "    recover the eqcls given a latent/selection set\n",
    "    note: an eqcls is a (frozen)set of (frozen)sets, e.g., {{1,2},{1}}; (because python does not support a set of sets)\n",
    "          the set of all eqclses is hence a set of (frozen)sets of (frozen)sets\n",
    "          set()==frozenset() = True\n",
    "    '''\n",
    "    mag = dag2mag(dag,lat,sel)\n",
    "    nodes = mag.nodes.difference('Y')\n",
    "    neigy = neighbors(mag)\n",
    "    \n",
    "    if neigy == set():\n",
    "        return set([powerset(nodes)]) # a set with a single element\n",
    "    else:\n",
    "        P = set()\n",
    "        for _sel in powerset(neigy):\n",
    "            _lat = neigy.difference(_sel)\n",
    "            _P = _recover(dag,lat.union(_lat),sel.union(_sel))\n",
    "            _P = inplace_union(_P,_sel)\n",
    "            P = P.union(_P)\n",
    "        return P"
   ]
  },
  {
   "cell_type": "code",
   "execution_count": 4,
   "id": "c351b0fb",
   "metadata": {},
   "outputs": [],
   "source": [
    "def recover(dag):\n",
    "    '''\n",
    "    wrapper of equivalence classes searching\n",
    "    '''\n",
    "    neigy = dag.neighbors_of('Y')\n",
    "    nodes = dag.nodes.difference('Y')\n",
    "    \n",
    "    if neigy == set():\n",
    "        return set([powerset(nodes)])\n",
    "    else:\n",
    "        P = set()\n",
    "        for _sel in powerset(neigy):\n",
    "            _lat = neigy.difference(_sel)\n",
    "            _P = _recover(dag,_lat,_sel)\n",
    "            _P = inplace_union(_P,_sel)\n",
    "            P = P.union(_P)\n",
    "        return P"
   ]
  },
  {
   "cell_type": "code",
   "execution_count": 6,
   "id": "e1758585",
   "metadata": {},
   "outputs": [
    {
     "name": "stdout",
     "output_type": "stream",
     "text": [
      "1-th eqcls: [['X1', 'X2'], ['X1']]\n",
      "2-th eqcls: [['X1', 'X3'], ['X4', 'X3', 'X1', 'X2'], ['X3', 'X1', 'X2'], ['X4', 'X1', 'X3']]\n",
      "3-th eqcls: [['X4', 'X1'], ['X4', 'X1', 'X2']]\n",
      "4-th eqcls: [['X4']]\n",
      "5-th eqcls: [[]]\n",
      "6-th eqcls: [['X4', 'X2']]\n",
      "7-th eqcls: [['X3'], ['X4', 'X3']]\n",
      "8-th eqcls: [['X2']]\n",
      "9-th eqcls: [['X4', 'X3', 'X2'], ['X3', 'X2']]\n"
     ]
    }
   ],
   "source": [
    "dag = DAG(arcs={('Y','X1'),('X1','X2'),('Y','X3'),('X3','X4'),('X1','X3')})\n",
    "eqclses = recover(dag)\n",
    "print_eqclses(eqclses)"
   ]
  },
  {
   "cell_type": "code",
   "execution_count": null,
   "id": "4e3cd358",
   "metadata": {},
   "outputs": [],
   "source": []
  }
 ],
 "metadata": {
  "kernelspec": {
   "display_name": "Python(rlanguage)",
   "language": "python",
   "name": "rlanguage"
  },
  "language_info": {
   "codemirror_mode": {
    "name": "ipython",
    "version": 3
   },
   "file_extension": ".py",
   "mimetype": "text/x-python",
   "name": "python",
   "nbconvert_exporter": "python",
   "pygments_lexer": "ipython3",
   "version": "3.10.10"
  }
 },
 "nbformat": 4,
 "nbformat_minor": 5
}
